{
 "cells": [
  {
   "cell_type": "code",
   "execution_count": 21,
   "id": "0447fc6c-aff2-4af5-ab4a-2646ab362e7c",
   "metadata": {
    "tags": []
   },
   "outputs": [],
   "source": [
    "import pandas as pd\n",
    "from sklearn.compose import ColumnTransformer\n",
    "from sklearn.pipeline import Pipeline\n",
    "from sklearn.preprocessing import StandardScaler, OneHotEncoder, OrdinalEncoder\n",
    "from sklearn.linear_model import LinearRegression, Lasso\n",
    "from sklearn.ensemble import RandomForestRegressor\n",
    "from sklearn.model_selection import train_test_split, cross_validate\n",
    "from sklearn.metrics import mean_squared_error\n",
    "import numpy as np"
   ]
  },
  {
   "cell_type": "code",
   "execution_count": 2,
   "id": "fc41cb04-66b1-4da0-b81a-bdded9c13cd0",
   "metadata": {
    "tags": []
   },
   "outputs": [],
   "source": [
    "data = pd.read_csv('C:/Users/anton/Downloads/kunskapskontroll_ai2_del1/kunskapskontroll_ai2_del1/housing.csv')\n",
    "data = data.dropna()"
   ]
  },
  {
   "cell_type": "code",
   "execution_count": 3,
   "id": "c25390f3-90fc-4b79-92f6-2b48a95cd342",
   "metadata": {
    "tags": []
   },
   "outputs": [],
   "source": [
    "numerical_features = data.select_dtypes(include=['float64']).columns.tolist()\n",
    "numerical_features.remove('median_house_value')  # Exkludera målvariabeln\n",
    "cat_feat = ['ocean_proximity']"
   ]
  },
  {
   "cell_type": "code",
   "execution_count": 4,
   "id": "1128e662-9995-4bf6-a40a-6ce6b90631d9",
   "metadata": {
    "tags": []
   },
   "outputs": [],
   "source": [
    "numeric_transformer_lr = StandardScaler()\n",
    "cat_transformer_lr = OneHotEncoder(drop='first')\n",
    "\n",
    "numeric_transformer_other = StandardScaler()\n",
    "ordinal_categories = [['INLAND', 'NEAR OCEAN', 'NEAR BAY', 'ISLAND', '<1H OCEAN']]\n",
    "cat_transformer_other = OrdinalEncoder(categories=ordinal_categories)"
   ]
  },
  {
   "cell_type": "code",
   "execution_count": 5,
   "id": "ba8226be-8c33-4665-9024-db31e1ad8fe9",
   "metadata": {
    "tags": []
   },
   "outputs": [],
   "source": [
    "preprocessor_lr = ColumnTransformer(\n",
    "    transformers=[\n",
    "        ('num', numeric_transformer_lr, numerical_features),\n",
    "        ('cat', cat_transformer_lr, cat_feat)\n",
    "    ])\n",
    "\n",
    "preprocessor_other = ColumnTransformer(\n",
    "    transformers=[\n",
    "        ('num', numeric_transformer_other, numerical_features),\n",
    "        ('cat', cat_transformer_other, cat_feat)\n",
    "    ])"
   ]
  },
  {
   "cell_type": "code",
   "execution_count": 6,
   "id": "78e0fb0a-b140-448b-be62-056c40686453",
   "metadata": {
    "tags": []
   },
   "outputs": [],
   "source": [
    "models = {\n",
    "    'Linear Regression': Pipeline(steps=[('preprocessor', preprocessor_lr),\n",
    "                                         ('regressor', LinearRegression())]),\n",
    "    'Random Forest': Pipeline(steps=[('preprocessor', preprocessor_other),\n",
    "                                     ('regressor', RandomForestRegressor(random_state=42))]),\n",
    "    'Lasso': Pipeline(steps=[('preprocessor', preprocessor_other),\n",
    "                             ('regressor', Lasso())])\n",
    "}"
   ]
  },
  {
   "cell_type": "code",
   "execution_count": 7,
   "id": "a62886d2-f10a-4853-98d9-952283695167",
   "metadata": {
    "tags": []
   },
   "outputs": [],
   "source": [
    "X = data.drop('median_house_value', axis=1)\n",
    "y = data['median_house_value']\n",
    "X_train, X_test, y_train, y_test = train_test_split(X, y, test_size=0.2, random_state=42)"
   ]
  },
  {
   "cell_type": "code",
   "execution_count": 8,
   "id": "4f8586c7-e9bb-4e48-8a96-cdbead9b7bcf",
   "metadata": {
    "tags": []
   },
   "outputs": [
    {
     "name": "stdout",
     "output_type": "stream",
     "text": [
      "Training Linear Regression...\n",
      "Training Random Forest...\n",
      "Training Lasso...\n"
     ]
    }
   ],
   "source": [
    "for model_name, model in models.items():\n",
    "    print(f\"Training {model_name}...\")\n",
    "    model.fit(X_train, y_train)"
   ]
  },
  {
   "cell_type": "code",
   "execution_count": 16,
   "id": "d402773d-2f56-4e99-92f1-5180116503c4",
   "metadata": {
    "tags": []
   },
   "outputs": [
    {
     "name": "stdout",
     "output_type": "stream",
     "text": [
      "Cross-validating Linear Regression...\n",
      "Cross-validating Random Forest...\n",
      "Cross-validating Lasso...\n"
     ]
    }
   ],
   "source": [
    "cv_results = {}\n",
    "for model_name, model in models.items():\n",
    "    print(f\"Cross-validating {model_name}...\")\n",
    "    scores = cross_validate(model, X_train, y_train, cv=3, scoring='neg_mean_squared_error')[\"test_score\"]\n",
    "    cv_results[model_name] = scores"
   ]
  },
  {
   "cell_type": "code",
   "execution_count": 17,
   "id": "5015ba52-0e7c-439c-a590-1a5ab0a1f604",
   "metadata": {
    "tags": []
   },
   "outputs": [
    {
     "name": "stdout",
     "output_type": "stream",
     "text": [
      "RMSE for Linear Regression for each iteration: [67201.92123224 68526.7478616  70291.64606743]\n",
      "Average RMSE for Linear Regression: 68685.10002579454\n",
      "------------------------------\n",
      "RMSE for Random Forest for each iteration: [49526.24794902 49564.91082278 50899.61587987]\n",
      "Average RMSE for Random Forest: 50001.00171495633\n",
      "------------------------------\n",
      "RMSE for Lasso for each iteration: [67571.77104213 69147.66837149 70814.12825487]\n",
      "Average RMSE for Lasso: 69190.52209534706\n",
      "------------------------------\n"
     ]
    }
   ],
   "source": [
    "for model_name, scores in cv_results.items():\n",
    "    rmse_scores = np.sqrt(-scores)\n",
    "    print(f'RMSE for {model_name} for each iteration:', rmse_scores)\n",
    "    print(f'Average RMSE for {model_name}:', np.sqrt(np.mean(-scores)))\n",
    "    print(\"-\" * 30)"
   ]
  },
  {
   "cell_type": "code",
   "execution_count": 18,
   "id": "5c856ad5-2b7d-4497-8bc9-8c859deafaae",
   "metadata": {
    "tags": []
   },
   "outputs": [
    {
     "data": {
      "text/html": [
       "<style>#sk-container-id-1 {color: black;}#sk-container-id-1 pre{padding: 0;}#sk-container-id-1 div.sk-toggleable {background-color: white;}#sk-container-id-1 label.sk-toggleable__label {cursor: pointer;display: block;width: 100%;margin-bottom: 0;padding: 0.3em;box-sizing: border-box;text-align: center;}#sk-container-id-1 label.sk-toggleable__label-arrow:before {content: \"▸\";float: left;margin-right: 0.25em;color: #696969;}#sk-container-id-1 label.sk-toggleable__label-arrow:hover:before {color: black;}#sk-container-id-1 div.sk-estimator:hover label.sk-toggleable__label-arrow:before {color: black;}#sk-container-id-1 div.sk-toggleable__content {max-height: 0;max-width: 0;overflow: hidden;text-align: left;background-color: #f0f8ff;}#sk-container-id-1 div.sk-toggleable__content pre {margin: 0.2em;color: black;border-radius: 0.25em;background-color: #f0f8ff;}#sk-container-id-1 input.sk-toggleable__control:checked~div.sk-toggleable__content {max-height: 200px;max-width: 100%;overflow: auto;}#sk-container-id-1 input.sk-toggleable__control:checked~label.sk-toggleable__label-arrow:before {content: \"▾\";}#sk-container-id-1 div.sk-estimator input.sk-toggleable__control:checked~label.sk-toggleable__label {background-color: #d4ebff;}#sk-container-id-1 div.sk-label input.sk-toggleable__control:checked~label.sk-toggleable__label {background-color: #d4ebff;}#sk-container-id-1 input.sk-hidden--visually {border: 0;clip: rect(1px 1px 1px 1px);clip: rect(1px, 1px, 1px, 1px);height: 1px;margin: -1px;overflow: hidden;padding: 0;position: absolute;width: 1px;}#sk-container-id-1 div.sk-estimator {font-family: monospace;background-color: #f0f8ff;border: 1px dotted black;border-radius: 0.25em;box-sizing: border-box;margin-bottom: 0.5em;}#sk-container-id-1 div.sk-estimator:hover {background-color: #d4ebff;}#sk-container-id-1 div.sk-parallel-item::after {content: \"\";width: 100%;border-bottom: 1px solid gray;flex-grow: 1;}#sk-container-id-1 div.sk-label:hover label.sk-toggleable__label {background-color: #d4ebff;}#sk-container-id-1 div.sk-serial::before {content: \"\";position: absolute;border-left: 1px solid gray;box-sizing: border-box;top: 0;bottom: 0;left: 50%;z-index: 0;}#sk-container-id-1 div.sk-serial {display: flex;flex-direction: column;align-items: center;background-color: white;padding-right: 0.2em;padding-left: 0.2em;position: relative;}#sk-container-id-1 div.sk-item {position: relative;z-index: 1;}#sk-container-id-1 div.sk-parallel {display: flex;align-items: stretch;justify-content: center;background-color: white;position: relative;}#sk-container-id-1 div.sk-item::before, #sk-container-id-1 div.sk-parallel-item::before {content: \"\";position: absolute;border-left: 1px solid gray;box-sizing: border-box;top: 0;bottom: 0;left: 50%;z-index: -1;}#sk-container-id-1 div.sk-parallel-item {display: flex;flex-direction: column;z-index: 1;position: relative;background-color: white;}#sk-container-id-1 div.sk-parallel-item:first-child::after {align-self: flex-end;width: 50%;}#sk-container-id-1 div.sk-parallel-item:last-child::after {align-self: flex-start;width: 50%;}#sk-container-id-1 div.sk-parallel-item:only-child::after {width: 0;}#sk-container-id-1 div.sk-dashed-wrapped {border: 1px dashed gray;margin: 0 0.4em 0.5em 0.4em;box-sizing: border-box;padding-bottom: 0.4em;background-color: white;}#sk-container-id-1 div.sk-label label {font-family: monospace;font-weight: bold;display: inline-block;line-height: 1.2em;}#sk-container-id-1 div.sk-label-container {text-align: center;}#sk-container-id-1 div.sk-container {/* jupyter's `normalize.less` sets `[hidden] { display: none; }` but bootstrap.min.css set `[hidden] { display: none !important; }` so we also need the `!important` here to be able to override the default hidden behavior on the sphinx rendered scikit-learn.org. See: https://github.com/scikit-learn/scikit-learn/issues/21755 */display: inline-block !important;position: relative;}#sk-container-id-1 div.sk-text-repr-fallback {display: none;}</style><div id=\"sk-container-id-1\" class=\"sk-top-container\"><div class=\"sk-text-repr-fallback\"><pre>Pipeline(steps=[(&#x27;preprocessor&#x27;,\n",
       "                 ColumnTransformer(transformers=[(&#x27;num&#x27;, StandardScaler(),\n",
       "                                                  [&#x27;longitude&#x27;, &#x27;latitude&#x27;,\n",
       "                                                   &#x27;housing_median_age&#x27;,\n",
       "                                                   &#x27;total_rooms&#x27;,\n",
       "                                                   &#x27;total_bedrooms&#x27;,\n",
       "                                                   &#x27;population&#x27;, &#x27;households&#x27;,\n",
       "                                                   &#x27;median_income&#x27;]),\n",
       "                                                 (&#x27;cat&#x27;,\n",
       "                                                  OrdinalEncoder(categories=[[&#x27;INLAND&#x27;,\n",
       "                                                                              &#x27;NEAR &#x27;\n",
       "                                                                              &#x27;OCEAN&#x27;,\n",
       "                                                                              &#x27;NEAR &#x27;\n",
       "                                                                              &#x27;BAY&#x27;,\n",
       "                                                                              &#x27;ISLAND&#x27;,\n",
       "                                                                              &#x27;&lt;1H &#x27;\n",
       "                                                                              &#x27;OCEAN&#x27;]]),\n",
       "                                                  [&#x27;ocean_proximity&#x27;])])),\n",
       "                (&#x27;regressor&#x27;, RandomForestRegressor(random_state=42))])</pre><b>In a Jupyter environment, please rerun this cell to show the HTML representation or trust the notebook. <br />On GitHub, the HTML representation is unable to render, please try loading this page with nbviewer.org.</b></div><div class=\"sk-container\" hidden><div class=\"sk-item sk-dashed-wrapped\"><div class=\"sk-label-container\"><div class=\"sk-label sk-toggleable\"><input class=\"sk-toggleable__control sk-hidden--visually\" id=\"sk-estimator-id-1\" type=\"checkbox\" ><label for=\"sk-estimator-id-1\" class=\"sk-toggleable__label sk-toggleable__label-arrow\">Pipeline</label><div class=\"sk-toggleable__content\"><pre>Pipeline(steps=[(&#x27;preprocessor&#x27;,\n",
       "                 ColumnTransformer(transformers=[(&#x27;num&#x27;, StandardScaler(),\n",
       "                                                  [&#x27;longitude&#x27;, &#x27;latitude&#x27;,\n",
       "                                                   &#x27;housing_median_age&#x27;,\n",
       "                                                   &#x27;total_rooms&#x27;,\n",
       "                                                   &#x27;total_bedrooms&#x27;,\n",
       "                                                   &#x27;population&#x27;, &#x27;households&#x27;,\n",
       "                                                   &#x27;median_income&#x27;]),\n",
       "                                                 (&#x27;cat&#x27;,\n",
       "                                                  OrdinalEncoder(categories=[[&#x27;INLAND&#x27;,\n",
       "                                                                              &#x27;NEAR &#x27;\n",
       "                                                                              &#x27;OCEAN&#x27;,\n",
       "                                                                              &#x27;NEAR &#x27;\n",
       "                                                                              &#x27;BAY&#x27;,\n",
       "                                                                              &#x27;ISLAND&#x27;,\n",
       "                                                                              &#x27;&lt;1H &#x27;\n",
       "                                                                              &#x27;OCEAN&#x27;]]),\n",
       "                                                  [&#x27;ocean_proximity&#x27;])])),\n",
       "                (&#x27;regressor&#x27;, RandomForestRegressor(random_state=42))])</pre></div></div></div><div class=\"sk-serial\"><div class=\"sk-item sk-dashed-wrapped\"><div class=\"sk-label-container\"><div class=\"sk-label sk-toggleable\"><input class=\"sk-toggleable__control sk-hidden--visually\" id=\"sk-estimator-id-2\" type=\"checkbox\" ><label for=\"sk-estimator-id-2\" class=\"sk-toggleable__label sk-toggleable__label-arrow\">preprocessor: ColumnTransformer</label><div class=\"sk-toggleable__content\"><pre>ColumnTransformer(transformers=[(&#x27;num&#x27;, StandardScaler(),\n",
       "                                 [&#x27;longitude&#x27;, &#x27;latitude&#x27;, &#x27;housing_median_age&#x27;,\n",
       "                                  &#x27;total_rooms&#x27;, &#x27;total_bedrooms&#x27;, &#x27;population&#x27;,\n",
       "                                  &#x27;households&#x27;, &#x27;median_income&#x27;]),\n",
       "                                (&#x27;cat&#x27;,\n",
       "                                 OrdinalEncoder(categories=[[&#x27;INLAND&#x27;,\n",
       "                                                             &#x27;NEAR OCEAN&#x27;,\n",
       "                                                             &#x27;NEAR BAY&#x27;,\n",
       "                                                             &#x27;ISLAND&#x27;,\n",
       "                                                             &#x27;&lt;1H OCEAN&#x27;]]),\n",
       "                                 [&#x27;ocean_proximity&#x27;])])</pre></div></div></div><div class=\"sk-parallel\"><div class=\"sk-parallel-item\"><div class=\"sk-item\"><div class=\"sk-label-container\"><div class=\"sk-label sk-toggleable\"><input class=\"sk-toggleable__control sk-hidden--visually\" id=\"sk-estimator-id-3\" type=\"checkbox\" ><label for=\"sk-estimator-id-3\" class=\"sk-toggleable__label sk-toggleable__label-arrow\">num</label><div class=\"sk-toggleable__content\"><pre>[&#x27;longitude&#x27;, &#x27;latitude&#x27;, &#x27;housing_median_age&#x27;, &#x27;total_rooms&#x27;, &#x27;total_bedrooms&#x27;, &#x27;population&#x27;, &#x27;households&#x27;, &#x27;median_income&#x27;]</pre></div></div></div><div class=\"sk-serial\"><div class=\"sk-item\"><div class=\"sk-estimator sk-toggleable\"><input class=\"sk-toggleable__control sk-hidden--visually\" id=\"sk-estimator-id-4\" type=\"checkbox\" ><label for=\"sk-estimator-id-4\" class=\"sk-toggleable__label sk-toggleable__label-arrow\">StandardScaler</label><div class=\"sk-toggleable__content\"><pre>StandardScaler()</pre></div></div></div></div></div></div><div class=\"sk-parallel-item\"><div class=\"sk-item\"><div class=\"sk-label-container\"><div class=\"sk-label sk-toggleable\"><input class=\"sk-toggleable__control sk-hidden--visually\" id=\"sk-estimator-id-5\" type=\"checkbox\" ><label for=\"sk-estimator-id-5\" class=\"sk-toggleable__label sk-toggleable__label-arrow\">cat</label><div class=\"sk-toggleable__content\"><pre>[&#x27;ocean_proximity&#x27;]</pre></div></div></div><div class=\"sk-serial\"><div class=\"sk-item\"><div class=\"sk-estimator sk-toggleable\"><input class=\"sk-toggleable__control sk-hidden--visually\" id=\"sk-estimator-id-6\" type=\"checkbox\" ><label for=\"sk-estimator-id-6\" class=\"sk-toggleable__label sk-toggleable__label-arrow\">OrdinalEncoder</label><div class=\"sk-toggleable__content\"><pre>OrdinalEncoder(categories=[[&#x27;INLAND&#x27;, &#x27;NEAR OCEAN&#x27;, &#x27;NEAR BAY&#x27;, &#x27;ISLAND&#x27;,\n",
       "                            &#x27;&lt;1H OCEAN&#x27;]])</pre></div></div></div></div></div></div></div></div><div class=\"sk-item\"><div class=\"sk-estimator sk-toggleable\"><input class=\"sk-toggleable__control sk-hidden--visually\" id=\"sk-estimator-id-7\" type=\"checkbox\" ><label for=\"sk-estimator-id-7\" class=\"sk-toggleable__label sk-toggleable__label-arrow\">RandomForestRegressor</label><div class=\"sk-toggleable__content\"><pre>RandomForestRegressor(random_state=42)</pre></div></div></div></div></div></div></div>"
      ],
      "text/plain": [
       "Pipeline(steps=[('preprocessor',\n",
       "                 ColumnTransformer(transformers=[('num', StandardScaler(),\n",
       "                                                  ['longitude', 'latitude',\n",
       "                                                   'housing_median_age',\n",
       "                                                   'total_rooms',\n",
       "                                                   'total_bedrooms',\n",
       "                                                   'population', 'households',\n",
       "                                                   'median_income']),\n",
       "                                                 ('cat',\n",
       "                                                  OrdinalEncoder(categories=[['INLAND',\n",
       "                                                                              'NEAR '\n",
       "                                                                              'OCEAN',\n",
       "                                                                              'NEAR '\n",
       "                                                                              'BAY',\n",
       "                                                                              'ISLAND',\n",
       "                                                                              '<1H '\n",
       "                                                                              'OCEAN']]),\n",
       "                                                  ['ocean_proximity'])])),\n",
       "                ('regressor', RandomForestRegressor(random_state=42))])"
      ]
     },
     "execution_count": 18,
     "metadata": {},
     "output_type": "execute_result"
    }
   ],
   "source": [
    "forest_model = models['Random Forest']\n",
    "forest_model.fit(X_train, y_train)"
   ]
  },
  {
   "cell_type": "code",
   "execution_count": 19,
   "id": "65395dce-93ef-49a8-92bd-3525ea1ea35c",
   "metadata": {
    "tags": []
   },
   "outputs": [],
   "source": [
    "y_test_pred_rf = forest_model.predict(X_test)"
   ]
  },
  {
   "cell_type": "code",
   "execution_count": 22,
   "id": "3982912b-8152-43fd-8f79-85d225bb6dc9",
   "metadata": {
    "tags": []
   },
   "outputs": [
    {
     "name": "stdout",
     "output_type": "stream",
     "text": [
      "RMSE for test data: 48756.829813239936\n"
     ]
    }
   ],
   "source": [
    "RMSE_test_data = mean_squared_error(y_test, y_test_pred_rf, squared=False)\n",
    "print(\"RMSE for test data:\", RMSE_test_data)"
   ]
  },
  {
   "cell_type": "code",
   "execution_count": 23,
   "id": "0cdad175-049f-40fd-95e2-6371c7753497",
   "metadata": {
    "tags": []
   },
   "outputs": [
    {
     "name": "stdout",
     "output_type": "stream",
     "text": [
      "RMSE ratio: 0.23469628897959807\n"
     ]
    }
   ],
   "source": [
    "RMSE_ratio = RMSE_test_data / np.mean(y_test)\n",
    "print(\"RMSE ratio:\", RMSE_ratio)"
   ]
  },
  {
   "cell_type": "code",
   "execution_count": null,
   "id": "e0ea81ca-5a75-48fd-bc75-964298ba8c2f",
   "metadata": {},
   "outputs": [],
   "source": []
  }
 ],
 "metadata": {
  "kernelspec": {
   "display_name": "Python 3 (ipykernel)",
   "language": "python",
   "name": "python3"
  },
  "language_info": {
   "codemirror_mode": {
    "name": "ipython",
    "version": 3
   },
   "file_extension": ".py",
   "mimetype": "text/x-python",
   "name": "python",
   "nbconvert_exporter": "python",
   "pygments_lexer": "ipython3",
   "version": "3.11.5"
  }
 },
 "nbformat": 4,
 "nbformat_minor": 5
}
